{
  "nbformat": 4,
  "nbformat_minor": 0,
  "metadata": {
    "colab": {
      "name": "Module 7 - Miscellaneous - Iterator, Generator, Lambda.ipynb",
      "provenance": [],
      "collapsed_sections": [],
      "toc_visible": true,
      "authorship_tag": "ABX9TyNNN+JmWCH+3QZudNlxv6wj",
      "include_colab_link": true
    },
    "kernelspec": {
      "name": "python3",
      "display_name": "Python 3"
    },
    "language_info": {
      "name": "python"
    }
  },
  "cells": [
    {
      "cell_type": "markdown",
      "metadata": {
        "id": "view-in-github",
        "colab_type": "text"
      },
      "source": [
        "<a href=\"https://colab.research.google.com/github/n4hum1/Python/blob/main/Module_7_Miscellaneous_Iterator%2C_Generator%2C_Lambda.ipynb\" target=\"_parent\"><img src=\"https://colab.research.google.com/assets/colab-badge.svg\" alt=\"Open In Colab\"/></a>"
      ]
    },
    {
      "cell_type": "markdown",
      "metadata": {
        "id": "O6v-WW2_DWoV"
      },
      "source": [
        "## Outline:\n",
        "\n",
        "- Generators, iterators and closures\n",
        "- Working with file-system, directory tree and files\n",
        "- Selected Python Standard Library modules (os, datetime, time, and calendar.)\n",
        "---"
      ]
    },
    {
      "cell_type": "markdown",
      "metadata": {
        "id": "y5X8mHyRM_qe"
      },
      "source": [
        "#Iterators\n",
        "\n",
        "* A Python generator is a piece of specialized code able to produce a series of values, and to control the iteration process. \n",
        "\n",
        "* This is why generators are very often called **iterators**, and although some may find a very subtle distinction between these two, we'll treat them as one.\n",
        "\n",
        "* A Python iterator object must implement two special methods, `__iter__()` and `__next__()`, collectively called the iterator protocol.\n",
        "\n",
        "    * `__iter__()` is invoked once when the iterator is created and returns the iterator's object itself;\n",
        "    * `__next__()` is invoked to provide the next iteration's value and raises the StopIteration exception when the iteration comes to and end.\n",
        "\n",
        "\n",
        "* An object is called iterable if we can get an iterator from it. Most built-in containers in Python like: list, tuple, string etc. are iterables.\n",
        "\n",
        "* The `iter()` function (which in turn calls the `__iter__()` method) returns an iterator from them."
      ]
    },
    {
      "cell_type": "code",
      "metadata": {
        "colab": {
          "base_uri": "https://localhost:8080/"
        },
        "id": "V0wzng9JN0tX",
        "outputId": "51eafcc7-ad51-4029-d095-b4675435fbcc"
      },
      "source": [
        "num = [1, 2, 3]\n",
        "num2 = range(1, 6)\n",
        "\n",
        "print(dir(num))\n",
        "print(dir(num2))"
      ],
      "execution_count": null,
      "outputs": [
        {
          "output_type": "stream",
          "text": [
            "['__add__', '__class__', '__contains__', '__delattr__', '__delitem__', '__dir__', '__doc__', '__eq__', '__format__', '__ge__', '__getattribute__', '__getitem__', '__gt__', '__hash__', '__iadd__', '__imul__', '__init__', '__init_subclass__', '__iter__', '__le__', '__len__', '__lt__', '__mul__', '__ne__', '__new__', '__reduce__', '__reduce_ex__', '__repr__', '__reversed__', '__rmul__', '__setattr__', '__setitem__', '__sizeof__', '__str__', '__subclasshook__', 'append', 'clear', 'copy', 'count', 'extend', 'index', 'insert', 'pop', 'remove', 'reverse', 'sort']\n",
            "['__bool__', '__class__', '__contains__', '__delattr__', '__dir__', '__doc__', '__eq__', '__format__', '__ge__', '__getattribute__', '__getitem__', '__gt__', '__hash__', '__init__', '__init_subclass__', '__iter__', '__le__', '__len__', '__lt__', '__ne__', '__new__', '__reduce__', '__reduce_ex__', '__repr__', '__reversed__', '__setattr__', '__sizeof__', '__str__', '__subclasshook__', 'count', 'index', 'start', 'step', 'stop']\n"
          ],
          "name": "stdout"
        }
      ]
    },
    {
      "cell_type": "code",
      "metadata": {
        "id": "Nh1Jl4-nj0Ce"
      },
      "source": [
        ""
      ],
      "execution_count": null,
      "outputs": []
    },
    {
      "cell_type": "code",
      "metadata": {
        "colab": {
          "base_uri": "https://localhost:8080/",
          "height": 370
        },
        "id": "V9qBMu8Gj5nf",
        "outputId": "b45cbedc-20c0-4617-d368-c0a45a106bdb"
      },
      "source": [
        "num = [1, 2, 3, 4, 5]\n",
        "\n",
        "my_iter = iter(num)\n",
        "\n",
        "print(my_iter)\n",
        "print()\n",
        "print(next(my_iter))        #cara 1\n",
        "print(my_iter.__next__())   #cara 2\n",
        "\n",
        "print(next(my_iter))\n",
        "print(next(my_iter))\n",
        "print(next(my_iter))\n",
        "print(next(my_iter))\n",
        "\n"
      ],
      "execution_count": null,
      "outputs": [
        {
          "output_type": "stream",
          "text": [
            "<list_iterator object at 0x7ffbb064e750>\n",
            "\n",
            "1\n",
            "2\n",
            "3\n",
            "4\n",
            "5\n"
          ],
          "name": "stdout"
        },
        {
          "output_type": "error",
          "ename": "StopIteration",
          "evalue": "ignored",
          "traceback": [
            "\u001b[0;31m---------------------------------------------------------------------------\u001b[0m",
            "\u001b[0;31mStopIteration\u001b[0m                             Traceback (most recent call last)",
            "\u001b[0;32m<ipython-input-1-490e396c3be2>\u001b[0m in \u001b[0;36m<module>\u001b[0;34m()\u001b[0m\n\u001b[1;32m     11\u001b[0m \u001b[0mprint\u001b[0m\u001b[0;34m(\u001b[0m\u001b[0mnext\u001b[0m\u001b[0;34m(\u001b[0m\u001b[0mmy_iter\u001b[0m\u001b[0;34m)\u001b[0m\u001b[0;34m)\u001b[0m\u001b[0;34m\u001b[0m\u001b[0;34m\u001b[0m\u001b[0m\n\u001b[1;32m     12\u001b[0m \u001b[0mprint\u001b[0m\u001b[0;34m(\u001b[0m\u001b[0mnext\u001b[0m\u001b[0;34m(\u001b[0m\u001b[0mmy_iter\u001b[0m\u001b[0;34m)\u001b[0m\u001b[0;34m)\u001b[0m\u001b[0;34m\u001b[0m\u001b[0;34m\u001b[0m\u001b[0m\n\u001b[0;32m---> 13\u001b[0;31m \u001b[0mprint\u001b[0m\u001b[0;34m(\u001b[0m\u001b[0mnext\u001b[0m\u001b[0;34m(\u001b[0m\u001b[0mmy_iter\u001b[0m\u001b[0;34m)\u001b[0m\u001b[0;34m)\u001b[0m\u001b[0;34m\u001b[0m\u001b[0;34m\u001b[0m\u001b[0m\n\u001b[0m\u001b[1;32m     14\u001b[0m \u001b[0;34m\u001b[0m\u001b[0m\n",
            "\u001b[0;31mStopIteration\u001b[0m: "
          ]
        }
      ]
    },
    {
      "cell_type": "markdown",
      "metadata": {
        "id": "-1kGjZT8yyB8"
      },
      "source": [
        "**Skeleton for a custom iterator**\n",
        "\n",
        "```\n",
        "class Nameclass:\n",
        "    def __init__(self, nn):\n",
        "        pass\n",
        "\n",
        "    def __iter__(self):\n",
        "        return self\n",
        "\n",
        "    def __next__(self):\n",
        "        return nextval\n",
        "\n",
        "```\n"
      ]
    },
    {
      "cell_type": "code",
      "metadata": {
        "colab": {
          "base_uri": "https://localhost:8080/"
        },
        "id": "Hi3JpNsv1oVk",
        "outputId": "9a70fe03-1b5c-430a-9efe-a74b600d1f03"
      },
      "source": [
        "class DuaPangkat:\n",
        "    def __init__(self, max):\n",
        "      self.max = max\n",
        "\n",
        "    def __iter__(self):\n",
        "      self.n = 0\n",
        "      return self\n",
        " \n",
        "    def __next__(self):        \n",
        "        if self.n <= self.max:\n",
        "            result = 2 ** self.n\n",
        "            self.n += 1\n",
        "            return result\n",
        "        else:\n",
        "            raise StopIteration\n",
        "\n",
        "\n",
        "\n",
        "for i in DuaPangkat(10):\n",
        "  print(i)\n",
        "\n",
        "\n"
      ],
      "execution_count": null,
      "outputs": [
        {
          "output_type": "stream",
          "text": [
            "1\n",
            "2\n",
            "4\n",
            "8\n",
            "16\n",
            "32\n",
            "64\n",
            "128\n",
            "256\n",
            "512\n",
            "1024\n"
          ],
          "name": "stdout"
        }
      ]
    },
    {
      "cell_type": "markdown",
      "metadata": {
        "id": "dtnVk8OdCEEg"
      },
      "source": [
        "#`yield` Statement\n",
        "\n",
        "* The `yield` statement can be used only inside functions. The `yield` statement suspends function execution and causes the function to return the yield's argument as a result. \n",
        "* Such a function cannot be invoked in a regular way – its only purpose is to be used as a generator (i.e. in a context that requires a series of values, like a for loop.)\n"
      ]
    },
    {
      "cell_type": "code",
      "metadata": {
        "colab": {
          "base_uri": "https://localhost:8080/"
        },
        "id": "442XgXK1AF-f",
        "outputId": "6ab84671-b3a6-4d9b-aa66-e7231f5bde87"
      },
      "source": [
        "# Penggunaan ```yield``` menggantikan ```return``` pada function mengubah function menjadi generator \n",
        "\n",
        "\n",
        "def fun1(n):\n",
        "    for i in range(n):\n",
        "        return i\n",
        "\n",
        "\n",
        "def fun2(n):\n",
        "    for i in range(n):\n",
        "        yield i\n",
        "\n",
        "\n",
        "\n",
        "\n",
        "'''\n",
        "for v in fun1(5):\n",
        "    print(v)\n",
        "\n",
        "'''\n",
        "print()\n",
        "\n",
        "for v in fun2(5):\n",
        "    print(v)\n",
        "\n"
      ],
      "execution_count": null,
      "outputs": [
        {
          "output_type": "stream",
          "text": [
            "\n",
            "0\n",
            "1\n",
            "2\n",
            "3\n",
            "4\n"
          ],
          "name": "stdout"
        }
      ]
    },
    {
      "cell_type": "markdown",
      "metadata": {
        "id": "_NKP-WeEDmSs"
      },
      "source": [
        "#List Comprehension\n",
        "\n",
        "A ```list comprehension``` becomes a `generator` when used inside parentheses (used inside brackets, it produces a regular list)."
      ]
    },
    {
      "cell_type": "code",
      "metadata": {
        "colab": {
          "base_uri": "https://localhost:8080/"
        },
        "id": "RGUz8cJeDsGJ",
        "outputId": "c3312c7b-6fc8-4f94-960b-556dd997b662"
      },
      "source": [
        "for x in (el * 2 for el in range(5)):\n",
        "    print(x)"
      ],
      "execution_count": null,
      "outputs": [
        {
          "output_type": "stream",
          "text": [
            "0\n",
            "2\n",
            "4\n",
            "6\n",
            "8\n"
          ],
          "name": "stdout"
        }
      ]
    },
    {
      "cell_type": "markdown",
      "metadata": {
        "id": "nhIoeStiECL4"
      },
      "source": [
        "#Lambda Function\n",
        "\n",
        "* Lambda Function, also referred to as 'Anonymous function' is same as a regular python function but can be defined without a name. \n",
        "* While normal functions are defined using the def keyword, anonymous functions are defined using the lambda keyword\n",
        "\n",
        "Basic syntax:\n",
        "\n",
        "`(lambda arguments : expression)(input_parameter_if_any)`"
      ]
    },
    {
      "cell_type": "code",
      "metadata": {
        "colab": {
          "base_uri": "https://localhost:8080/"
        },
        "id": "w_LouJxrEFYV",
        "outputId": "ce8f3d53-f921-4467-d316-658e34c317fe"
      },
      "source": [
        "def add_one(x):\n",
        "    return x + 1\n",
        "\n",
        "def tambah(x, y):\n",
        "    return x+y\n",
        "\n",
        "a = add_one(2)\n",
        "b = (lambda x: x + 1)(2)\n",
        "\n",
        "print(a)\n",
        "print(b)\n",
        "\n",
        "print()\n",
        "\n",
        "print(tambah(2, 3))\n",
        "print((lambda x, y : x+y)(2, 3))"
      ],
      "execution_count": null,
      "outputs": [
        {
          "output_type": "stream",
          "text": [
            "3\n",
            "3\n",
            "\n",
            "5\n",
            "5\n"
          ],
          "name": "stdout"
        }
      ]
    },
    {
      "cell_type": "markdown",
      "metadata": {
        "id": "IgngIYBxLqz0"
      },
      "source": [
        "#Map Function\n",
        "\n",
        "Basic syntax:\n",
        "```\n",
        "map(function_object, iterable1, iterable2,...)\n",
        "```"
      ]
    },
    {
      "cell_type": "code",
      "metadata": {
        "colab": {
          "base_uri": "https://localhost:8080/"
        },
        "id": "bMfJ3bUCMlPb",
        "outputId": "fca3bd00-91cc-4423-bf5f-257d2f1df60a"
      },
      "source": [
        "def multiply2(x):\n",
        "  return x * 2\n",
        "    \n",
        "list1 = list(map(multiply2, [1, 2, 3, 4]))\n",
        "list2 = list(map(lambda x : x*2, [1, 2, 3, 4]))\n",
        "\n",
        "print(list1)\n",
        "print(list2)"
      ],
      "execution_count": null,
      "outputs": [
        {
          "output_type": "stream",
          "text": [
            "[2, 4, 6, 8]\n",
            "[2, 4, 6, 8]\n"
          ],
          "name": "stdout"
        }
      ]
    },
    {
      "cell_type": "code",
      "metadata": {
        "colab": {
          "base_uri": "https://localhost:8080/"
        },
        "id": "UnL7K8uMNktS",
        "outputId": "a207e395-1750-4c67-c29b-758d757039c9"
      },
      "source": [
        "list_a = [1, 2, 3]\n",
        "list_b = [10, 20, 30]\n",
        "  \n",
        "res = list(map(lambda x, y: x + y, list_a, list_b))\n",
        "print(res)"
      ],
      "execution_count": null,
      "outputs": [
        {
          "output_type": "stream",
          "text": [
            "[11, 22, 33]\n"
          ],
          "name": "stdout"
        }
      ]
    },
    {
      "cell_type": "markdown",
      "metadata": {
        "id": "cneY6_NQPAJ4"
      },
      "source": [
        "#Filter\n",
        "\n",
        "Basic Syntax\n",
        "\n",
        "```filter(function_object, iterable)```\n",
        "\n",
        "The `filter` function expects two arguments: `function_object` and an `iterable`. `function_object` returns a boolean value and is called for each element of the iterable. `filter` returns only those elements for which the function_object returns True."
      ]
    },
    {
      "cell_type": "code",
      "metadata": {
        "colab": {
          "base_uri": "https://localhost:8080/"
        },
        "id": "85PXrPssQBMk",
        "outputId": "3f007148-248f-4b87-f1cd-5f7b2c0b38a4"
      },
      "source": [
        "a = [1, 2, 3, 4, 5, 6]\n",
        "b = filter(lambda x : x % 2 == 0, a)\n",
        "b = list(b)\n",
        "\n",
        "print(b)"
      ],
      "execution_count": null,
      "outputs": [
        {
          "output_type": "stream",
          "text": [
            "[2, 4, 6]\n"
          ],
          "name": "stdout"
        }
      ]
    },
    {
      "cell_type": "code",
      "metadata": {
        "colab": {
          "base_uri": "https://localhost:8080/"
        },
        "id": "sWf7fxnZQfnd",
        "outputId": "0880549d-79e4-48ab-d6bf-0f8dfd31c855"
      },
      "source": [
        "# Python 3 code to people above 18 yrs\n",
        "ages = [13, 90, 17, 59, 21, 60, 5]\n",
        "\n",
        "adults = list(filter(lambda age: age>18, ages))\n",
        "\n",
        "print(adults)\n"
      ],
      "execution_count": null,
      "outputs": [
        {
          "output_type": "stream",
          "text": [
            "[90, 59, 21, 60]\n"
          ],
          "name": "stdout"
        }
      ]
    },
    {
      "cell_type": "markdown",
      "metadata": {
        "id": "AgN6R4T_GxDw"
      },
      "source": [
        "#Closure\n",
        "\n",
        "\n",
        " A **closure** is a nested function which has access to a free variable from an enclosing function that has finished its execution. Three characteristics of a Python closure are:\n",
        "*    it is a nested function\n",
        "*    it has access to a free variable in outer scope\n",
        "*    it is returned from the enclosing function\n"
      ]
    },
    {
      "cell_type": "code",
      "metadata": {
        "colab": {
          "base_uri": "https://localhost:8080/"
        },
        "id": "yugingPUJhzx",
        "outputId": "18ffd58d-0233-42f4-9193-98a436200965"
      },
      "source": [
        "def print_msg(msg):\n",
        "    # This is the outer enclosing function\n",
        "\n",
        "    def printer():\n",
        "        # This is the nested function\n",
        "        print(msg)\n",
        "\n",
        "    return printer  # returns the nested function\n",
        "\n",
        "a = print_msg('hallo')\n",
        "a()"
      ],
      "execution_count": null,
      "outputs": [
        {
          "output_type": "stream",
          "text": [
            "hallo\n"
          ],
          "name": "stdout"
        }
      ]
    },
    {
      "cell_type": "code",
      "metadata": {
        "colab": {
          "base_uri": "https://localhost:8080/"
        },
        "id": "LyaBYu-HKDpa",
        "outputId": "79d7042e-047f-4249-c464-36ac44f4a577"
      },
      "source": [
        "def make_multiplier_of(n):\n",
        "      \n",
        "    def multiplier(x):\n",
        "        return x * n\n",
        "    return multiplier\n",
        "\n",
        "\n",
        "# Multiplier of 3\n",
        "times3 = make_multiplier_of(3)\n",
        "\n",
        "# Multiplier of 5\n",
        "times5 = make_multiplier_of(5)\n",
        "\n",
        "# Output: 27\n",
        "print(times3(9))\n",
        "\n",
        "# Output: 15\n",
        "print(times5(3))\n",
        "\n",
        "# Output: 30\n",
        "print(times5(times3(2)))"
      ],
      "execution_count": null,
      "outputs": [
        {
          "output_type": "stream",
          "text": [
            "27\n",
            "15\n",
            "30\n"
          ],
          "name": "stdout"
        }
      ]
    }
  ]
}