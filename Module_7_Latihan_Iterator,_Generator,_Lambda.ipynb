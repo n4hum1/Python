{
  "nbformat": 4,
  "nbformat_minor": 0,
  "metadata": {
    "colab": {
      "name": "Module 7 - Latihan Iterator, Generator, Lambda.ipynb",
      "provenance": [],
      "collapsed_sections": [],
      "authorship_tag": "ABX9TyMRw/G50JGklh2BCzI3tVZk",
      "include_colab_link": true
    },
    "kernelspec": {
      "name": "python3",
      "display_name": "Python 3"
    },
    "language_info": {
      "name": "python"
    }
  },
  "cells": [
    {
      "cell_type": "markdown",
      "metadata": {
        "id": "view-in-github",
        "colab_type": "text"
      },
      "source": [
        "<a href=\"https://colab.research.google.com/github/n4hum1/Python/blob/main/Module_7_Latihan_Iterator%2C_Generator%2C_Lambda.ipynb\" target=\"_parent\"><img src=\"https://colab.research.google.com/assets/colab-badge.svg\" alt=\"Open In Colab\"/></a>"
      ]
    },
    {
      "cell_type": "markdown",
      "metadata": {
        "id": "EXwA-k-QSmFv"
      },
      "source": [
        "#Latihan 1\n",
        "\n",
        "Buat sebuah kelas iterator bernama 'MyIter' yang memiliki output sbb:\n",
        "\n",
        "\n",
        "`1, 3, 5, 7`"
      ]
    },
    {
      "cell_type": "code",
      "metadata": {
        "id": "5xGZGsI-STvT"
      },
      "source": [
        "class MyIter:\n",
        "    #put your code here\n",
        "\n",
        "\n",
        "\n",
        "for i in MyIter(4):\n",
        "  print(i)\n"
      ],
      "execution_count": null,
      "outputs": []
    },
    {
      "cell_type": "markdown",
      "metadata": {
        "id": "U5ExWtoxUYlh"
      },
      "source": [
        "#Latihan 2\n",
        "\n",
        "Buat suatu lambda function dengan menggunakan filter. Printout angka yang habis dibagi 13.\n",
        "\n",
        "Input : `my_list = [12, 65, 54, 39, 102, 339, 221, 50, 70]`<br>\n",
        "Output : `[65, 39, 221]`\n"
      ]
    },
    {
      "cell_type": "code",
      "metadata": {
        "id": "FJcXB3JbHvQZ"
      },
      "source": [
        ""
      ],
      "execution_count": null,
      "outputs": []
    }
  ]
}